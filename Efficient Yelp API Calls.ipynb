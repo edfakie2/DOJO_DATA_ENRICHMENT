{
 "cells": [
  {
   "cell_type": "code",
   "execution_count": 147,
   "id": "fee61754",
   "metadata": {},
   "outputs": [],
   "source": [
    "import numpy as np\n",
    "import pandas as pd\n",
    "import matplotlib.pyplot as plt\n",
    "import seaborn as sns\n",
    "import os, json, math, time\n",
    "from yelpapi import YelpAPI\n",
    "from tqdm.notebook import tqdm_notebook\n",
    "\n"
   ]
  },
  {
   "cell_type": "markdown",
   "id": "05f0b3a9",
   "metadata": {},
   "source": [
    "All data collected via: https://www.yelp.com/developers"
   ]
  },
  {
   "cell_type": "code",
   "execution_count": 148,
   "id": "5da004c2",
   "metadata": {},
   "outputs": [
    {
     "name": "stdout",
     "output_type": "stream",
     "text": [
      "Requirement already satisfied: tqdm in /Users/edwardfakier/.local/lib/python3.7/site-packages (4.64.0)\r\n"
     ]
    }
   ],
   "source": [
    "!pip install tqdm\n"
   ]
  },
  {
   "cell_type": "code",
   "execution_count": 149,
   "id": "16ac87c4",
   "metadata": {},
   "outputs": [
    {
     "data": {
      "text/plain": [
       "dict_keys(['client-id', 'api-key'])"
      ]
     },
     "execution_count": 149,
     "metadata": {},
     "output_type": "execute_result"
    }
   ],
   "source": [
    "with open('/Users/edwardfakier/.secret/yelp_api.json') as f:\n",
    "    login = json.load(f)\n",
    "login.keys()"
   ]
  },
  {
   "cell_type": "code",
   "execution_count": 150,
   "id": "78c51bd0",
   "metadata": {},
   "outputs": [
    {
     "data": {
      "text/plain": [
       "<yelpapi.yelpapi.YelpAPI at 0x7fc728cc25d0>"
      ]
     },
     "execution_count": 150,
     "metadata": {},
     "output_type": "execute_result"
    }
   ],
   "source": [
    "yelp_api = YelpAPI(login['api-key'], timeout_s=5.0)\n",
    "yelp_api\n",
    "\n"
   ]
  },
  {
   "cell_type": "code",
   "execution_count": 151,
   "id": "00e84e24",
   "metadata": {},
   "outputs": [],
   "source": [
    "LOCATION = 'New Orleans, LA'\n",
    "TERM = 'Burgers'"
   ]
  },
  {
   "cell_type": "code",
   "execution_count": 152,
   "id": "1035c38d",
   "metadata": {},
   "outputs": [
    {
     "data": {
      "text/plain": [
       "'Data/results_in_progress_Burgers.json'"
      ]
     },
     "execution_count": 152,
     "metadata": {},
     "output_type": "execute_result"
    }
   ],
   "source": [
    "JSON_FILE = f\"Data/results_in_progress_Burgers.json\"\n",
    "JSON_FILE\n",
    "\n"
   ]
  },
  {
   "cell_type": "code",
   "execution_count": 153,
   "id": "77c933df",
   "metadata": {},
   "outputs": [
    {
     "name": "stdout",
     "output_type": "stream",
     "text": [
      "[i] Data/results_in_progress_Burgers.json already exists.\n"
     ]
    }
   ],
   "source": [
    "file_exists = os.path.isfile(JSON_FILE)\n",
    "if file_exists == False:\n",
    "    \n",
    "\n",
    "    folder = os.path.dirname(JSON_FILE)\n",
    "    if len(folder)>0:\n",
    "        os.makedirs(folder,exist_ok=True)\n",
    "        \n",
    "        \n",
    "    print(f\"[i] {JSON_FILE} not found. Saving empty list to file.\")\n",
    "    \n",
    "    \n",
    "  \n",
    "    with open(JSON_FILE,'w') as f:\n",
    "        json.dump([],f)  \n",
    "\n",
    "else:\n",
    "    print(f\"[i] {JSON_FILE} already exists.\")\n",
    "\n"
   ]
  },
  {
   "cell_type": "code",
   "execution_count": 154,
   "id": "1361ba50",
   "metadata": {
    "scrolled": true
   },
   "outputs": [],
   "source": [
    "FOLDER = \"Data/\""
   ]
  },
  {
   "cell_type": "code",
   "execution_count": 155,
   "id": "e669d5ef",
   "metadata": {},
   "outputs": [
    {
     "data": {
      "text/plain": [
       "'New Orleans'"
      ]
     },
     "execution_count": 155,
     "metadata": {},
     "output_type": "execute_result"
    }
   ],
   "source": [
    "LOCATION.split(',')[0]"
   ]
  },
  {
   "cell_type": "code",
   "execution_count": 156,
   "id": "4d84ac8b",
   "metadata": {},
   "outputs": [],
   "source": [
    "JSON_FILE = FOLDER + f\"{LOCATION.split(',')[0]}-{TERM}.json\""
   ]
  },
  {
   "cell_type": "code",
   "execution_count": 157,
   "id": "6ca533c8",
   "metadata": {},
   "outputs": [
    {
     "data": {
      "text/plain": [
       "'Data/New Orleans-Burgers.json'"
      ]
     },
     "execution_count": 157,
     "metadata": {},
     "output_type": "execute_result"
    }
   ],
   "source": [
    "JSON_FILE"
   ]
  },
  {
   "cell_type": "markdown",
   "id": "54658766",
   "metadata": {},
   "source": [
    "# MAKE API CALL"
   ]
  },
  {
   "cell_type": "code",
   "execution_count": 158,
   "id": "758c35ad",
   "metadata": {},
   "outputs": [
    {
     "data": {
      "text/plain": [
       "dict"
      ]
     },
     "execution_count": 158,
     "metadata": {},
     "output_type": "execute_result"
    }
   ],
   "source": [
    "results = yelp_api.search_query(term=TERM,location = LOCATION)\n",
    "type(results)"
   ]
  },
  {
   "cell_type": "code",
   "execution_count": 159,
   "id": "52b42880",
   "metadata": {},
   "outputs": [
    {
     "data": {
      "text/plain": [
       "dict_keys(['businesses', 'total', 'region'])"
      ]
     },
     "execution_count": 159,
     "metadata": {},
     "output_type": "execute_result"
    }
   ],
   "source": [
    "results.keys()"
   ]
  },
  {
   "cell_type": "code",
   "execution_count": 160,
   "id": "4885309e",
   "metadata": {},
   "outputs": [
    {
     "data": {
      "text/plain": [
       "20"
      ]
     },
     "execution_count": 160,
     "metadata": {},
     "output_type": "execute_result"
    }
   ],
   "source": [
    "len(results['businesses'])"
   ]
  },
  {
   "cell_type": "code",
   "execution_count": 161,
   "id": "e08e1482",
   "metadata": {},
   "outputs": [
    {
     "data": {
      "text/plain": [
       "1000"
      ]
     },
     "execution_count": 161,
     "metadata": {},
     "output_type": "execute_result"
    }
   ],
   "source": [
    "results['total']"
   ]
  },
  {
   "cell_type": "code",
   "execution_count": 162,
   "id": "794295f2",
   "metadata": {},
   "outputs": [
    {
     "data": {
      "text/html": [
       "<div>\n",
       "<style scoped>\n",
       "    .dataframe tbody tr th:only-of-type {\n",
       "        vertical-align: middle;\n",
       "    }\n",
       "\n",
       "    .dataframe tbody tr th {\n",
       "        vertical-align: top;\n",
       "    }\n",
       "\n",
       "    .dataframe thead th {\n",
       "        text-align: right;\n",
       "    }\n",
       "</style>\n",
       "<table border=\"1\" class=\"dataframe\">\n",
       "  <thead>\n",
       "    <tr style=\"text-align: right;\">\n",
       "      <th></th>\n",
       "      <th>id</th>\n",
       "      <th>alias</th>\n",
       "      <th>name</th>\n",
       "      <th>image_url</th>\n",
       "      <th>is_closed</th>\n",
       "      <th>url</th>\n",
       "      <th>review_count</th>\n",
       "      <th>categories</th>\n",
       "      <th>rating</th>\n",
       "      <th>coordinates</th>\n",
       "      <th>transactions</th>\n",
       "      <th>price</th>\n",
       "      <th>location</th>\n",
       "      <th>phone</th>\n",
       "      <th>display_phone</th>\n",
       "      <th>distance</th>\n",
       "    </tr>\n",
       "  </thead>\n",
       "  <tbody>\n",
       "    <tr>\n",
       "      <th>0</th>\n",
       "      <td>gTC8IQ_i8zXytWSly3Ttvg</td>\n",
       "      <td>cochon-butcher-new-orleans-2</td>\n",
       "      <td>Cochon Butcher</td>\n",
       "      <td>https://s3-media2.fl.yelpcdn.com/bphoto/KqxJbu...</td>\n",
       "      <td>False</td>\n",
       "      <td>https://www.yelp.com/biz/cochon-butcher-new-or...</td>\n",
       "      <td>3980</td>\n",
       "      <td>[{'alias': 'sandwiches', 'title': 'Sandwiches'...</td>\n",
       "      <td>4.5</td>\n",
       "      <td>{'latitude': 29.9422358658609, 'longitude': -9...</td>\n",
       "      <td>[]</td>\n",
       "      <td>$$</td>\n",
       "      <td>{'address1': '930 Tchoupitoulas St', 'address2...</td>\n",
       "      <td>+15045887675</td>\n",
       "      <td>(504) 588-7675</td>\n",
       "      <td>2225.217801</td>\n",
       "    </tr>\n",
       "    <tr>\n",
       "      <th>1</th>\n",
       "      <td>t9LiapsQABwMQeiF1Czl6w</td>\n",
       "      <td>port-of-call-new-orleans-2</td>\n",
       "      <td>Port Of Call</td>\n",
       "      <td>https://s3-media1.fl.yelpcdn.com/bphoto/UA-xRv...</td>\n",
       "      <td>False</td>\n",
       "      <td>https://www.yelp.com/biz/port-of-call-new-orle...</td>\n",
       "      <td>1753</td>\n",
       "      <td>[{'alias': 'bars', 'title': 'Bars'}, {'alias':...</td>\n",
       "      <td>4.0</td>\n",
       "      <td>{'latitude': 29.964442, 'longitude': -90.061776}</td>\n",
       "      <td>[delivery]</td>\n",
       "      <td>$$</td>\n",
       "      <td>{'address1': '838 Esplanade Ave', 'address2': ...</td>\n",
       "      <td>+15045230120</td>\n",
       "      <td>(504) 523-0120</td>\n",
       "      <td>2313.727989</td>\n",
       "    </tr>\n",
       "    <tr>\n",
       "      <th>2</th>\n",
       "      <td>EmJF-xSIOaEEOWcK8UOBqg</td>\n",
       "      <td>fharmacy-nola-new-orleans</td>\n",
       "      <td>Fharmacy Nola</td>\n",
       "      <td>https://s3-media1.fl.yelpcdn.com/bphoto/uIEzYe...</td>\n",
       "      <td>False</td>\n",
       "      <td>https://www.yelp.com/biz/fharmacy-nola-new-orl...</td>\n",
       "      <td>481</td>\n",
       "      <td>[{'alias': 'tradamerican', 'title': 'American ...</td>\n",
       "      <td>4.5</td>\n",
       "      <td>{'latitude': 29.9617582769481, 'longitude': -9...</td>\n",
       "      <td>[delivery, pickup]</td>\n",
       "      <td>$$</td>\n",
       "      <td>{'address1': '2540 Banks St', 'address2': '', ...</td>\n",
       "      <td>+15043246090</td>\n",
       "      <td>(504) 324-6090</td>\n",
       "      <td>767.797434</td>\n",
       "    </tr>\n",
       "    <tr>\n",
       "      <th>3</th>\n",
       "      <td>EONd-1BeBm04FBLvWe6KMQ</td>\n",
       "      <td>bub-s-nola-new-orleans</td>\n",
       "      <td>Bub’s Nola</td>\n",
       "      <td>https://s3-media1.fl.yelpcdn.com/bphoto/0Pkbe3...</td>\n",
       "      <td>False</td>\n",
       "      <td>https://www.yelp.com/biz/bub-s-nola-new-orlean...</td>\n",
       "      <td>63</td>\n",
       "      <td>[{'alias': 'tradamerican', 'title': 'American ...</td>\n",
       "      <td>4.5</td>\n",
       "      <td>{'latitude': 29.97461, 'longitude': -90.10663}</td>\n",
       "      <td>[delivery, pickup]</td>\n",
       "      <td>$$</td>\n",
       "      <td>{'address1': '4413 Banks St', 'address2': '', ...</td>\n",
       "      <td></td>\n",
       "      <td></td>\n",
       "      <td>3015.677509</td>\n",
       "    </tr>\n",
       "    <tr>\n",
       "      <th>4</th>\n",
       "      <td>q6hWVlVeiCgMgM22wt1wfw</td>\n",
       "      <td>the-company-burger-new-orleans</td>\n",
       "      <td>The Company Burger</td>\n",
       "      <td>https://s3-media4.fl.yelpcdn.com/bphoto/wvzN6l...</td>\n",
       "      <td>False</td>\n",
       "      <td>https://www.yelp.com/biz/the-company-burger-ne...</td>\n",
       "      <td>768</td>\n",
       "      <td>[{'alias': 'burgers', 'title': 'Burgers'}, {'a...</td>\n",
       "      <td>4.0</td>\n",
       "      <td>{'latitude': 29.934724, 'longitude': -90.105744}</td>\n",
       "      <td>[delivery]</td>\n",
       "      <td>$$</td>\n",
       "      <td>{'address1': '4600 Freret St', 'address2': 'St...</td>\n",
       "      <td>+15042670320</td>\n",
       "      <td>(504) 267-0320</td>\n",
       "      <td>3181.764830</td>\n",
       "    </tr>\n",
       "    <tr>\n",
       "      <th>5</th>\n",
       "      <td>rOsC1rDpIxvNoHxEvNFjeA</td>\n",
       "      <td>backspace-bar-and-kitchen-new-orleans</td>\n",
       "      <td>Backspace Bar &amp; Kitchen</td>\n",
       "      <td>https://s3-media2.fl.yelpcdn.com/bphoto/ZaMssH...</td>\n",
       "      <td>False</td>\n",
       "      <td>https://www.yelp.com/biz/backspace-bar-and-kit...</td>\n",
       "      <td>454</td>\n",
       "      <td>[{'alias': 'bars', 'title': 'Bars'}, {'alias':...</td>\n",
       "      <td>4.0</td>\n",
       "      <td>{'latitude': 29.9534413, 'longitude': -90.0675...</td>\n",
       "      <td>[delivery]</td>\n",
       "      <td>$$</td>\n",
       "      <td>{'address1': '139 Chartres St', 'address2': ''...</td>\n",
       "      <td>+15043222245</td>\n",
       "      <td>(504) 322-2245</td>\n",
       "      <td>1592.330936</td>\n",
       "    </tr>\n",
       "    <tr>\n",
       "      <th>6</th>\n",
       "      <td>tJbcSsnO1HNwebJhKUz3NQ</td>\n",
       "      <td>ya-mamas-burgers-and-spuds-new-orleans</td>\n",
       "      <td>Ya Mama's Burgers and Spuds</td>\n",
       "      <td>https://s3-media1.fl.yelpcdn.com/bphoto/kqwMKk...</td>\n",
       "      <td>False</td>\n",
       "      <td>https://www.yelp.com/biz/ya-mamas-burgers-and-...</td>\n",
       "      <td>8</td>\n",
       "      <td>[{'alias': 'bars', 'title': 'Bars'}, {'alias':...</td>\n",
       "      <td>4.5</td>\n",
       "      <td>{'latitude': 29.95851, 'longitude': -90.06521}</td>\n",
       "      <td>[]</td>\n",
       "      <td>$$</td>\n",
       "      <td>{'address1': '727 St.Peter St', 'address2': No...</td>\n",
       "      <td></td>\n",
       "      <td></td>\n",
       "      <td>1805.717089</td>\n",
       "    </tr>\n",
       "    <tr>\n",
       "      <th>7</th>\n",
       "      <td>UTkd3bWcTn0eREADTWKyog</td>\n",
       "      <td>the-will-and-the-way-new-orleans-3</td>\n",
       "      <td>The Will &amp; The Way</td>\n",
       "      <td>https://s3-media1.fl.yelpcdn.com/bphoto/mzjd7C...</td>\n",
       "      <td>False</td>\n",
       "      <td>https://www.yelp.com/biz/the-will-and-the-way-...</td>\n",
       "      <td>60</td>\n",
       "      <td>[{'alias': 'cocktailbars', 'title': 'Cocktail ...</td>\n",
       "      <td>4.5</td>\n",
       "      <td>{'latitude': 29.95755757686385, 'longitude': -...</td>\n",
       "      <td>[delivery, pickup]</td>\n",
       "      <td>$$</td>\n",
       "      <td>{'address1': '719 Toulouse St', 'address2': No...</td>\n",
       "      <td></td>\n",
       "      <td></td>\n",
       "      <td>1734.951994</td>\n",
       "    </tr>\n",
       "    <tr>\n",
       "      <th>8</th>\n",
       "      <td>Meww6RIE4cFL_kG0aRlbAA</td>\n",
       "      <td>blue-oak-bbq-new-orleans</td>\n",
       "      <td>Blue Oak BBQ</td>\n",
       "      <td>https://s3-media2.fl.yelpcdn.com/bphoto/OhIfCy...</td>\n",
       "      <td>False</td>\n",
       "      <td>https://www.yelp.com/biz/blue-oak-bbq-new-orle...</td>\n",
       "      <td>1146</td>\n",
       "      <td>[{'alias': 'bbq', 'title': 'Barbeque'}, {'alia...</td>\n",
       "      <td>4.5</td>\n",
       "      <td>{'latitude': 29.9805179, 'longitude': -90.093634}</td>\n",
       "      <td>[delivery]</td>\n",
       "      <td>$$</td>\n",
       "      <td>{'address1': '900 N Carrollton St', 'address2'...</td>\n",
       "      <td>+15048222583</td>\n",
       "      <td>(504) 822-2583</td>\n",
       "      <td>2878.224100</td>\n",
       "    </tr>\n",
       "    <tr>\n",
       "      <th>9</th>\n",
       "      <td>zHy8953PyqX0CnPTXDn3zw</td>\n",
       "      <td>the-commissary-new-orleans</td>\n",
       "      <td>The Commissary</td>\n",
       "      <td>https://s3-media3.fl.yelpcdn.com/bphoto/YHCvYM...</td>\n",
       "      <td>False</td>\n",
       "      <td>https://www.yelp.com/biz/the-commissary-new-or...</td>\n",
       "      <td>18</td>\n",
       "      <td>[{'alias': 'tradamerican', 'title': 'American ...</td>\n",
       "      <td>5.0</td>\n",
       "      <td>{'latitude': 29.93213, 'longitude': -90.06782}</td>\n",
       "      <td>[]</td>\n",
       "      <td>NaN</td>\n",
       "      <td>{'address1': '634 Orange St', 'address2': None...</td>\n",
       "      <td>+15042741850</td>\n",
       "      <td>(504) 274-1850</td>\n",
       "      <td>3091.687301</td>\n",
       "    </tr>\n",
       "    <tr>\n",
       "      <th>10</th>\n",
       "      <td>8uF-bhJFgT4Tn6DTb27viA</td>\n",
       "      <td>district-donuts-sliders-brew-new-orleans</td>\n",
       "      <td>District Donuts Sliders Brew</td>\n",
       "      <td>https://s3-media3.fl.yelpcdn.com/bphoto/1hrJqK...</td>\n",
       "      <td>False</td>\n",
       "      <td>https://www.yelp.com/biz/district-donuts-slide...</td>\n",
       "      <td>2106</td>\n",
       "      <td>[{'alias': 'coffee', 'title': 'Coffee &amp; Tea'},...</td>\n",
       "      <td>4.5</td>\n",
       "      <td>{'latitude': 29.9294259, 'longitude': -90.0770...</td>\n",
       "      <td>[delivery]</td>\n",
       "      <td>$</td>\n",
       "      <td>{'address1': '2209 Magazine St', 'address2': '...</td>\n",
       "      <td>+15045706945</td>\n",
       "      <td>(504) 570-6945</td>\n",
       "      <td>3033.803440</td>\n",
       "    </tr>\n",
       "    <tr>\n",
       "      <th>11</th>\n",
       "      <td>yMlpyzvx5o3tTFI_1esgGQ</td>\n",
       "      <td>bakery-bar-new-orleans</td>\n",
       "      <td>Bakery Bar</td>\n",
       "      <td>https://s3-media1.fl.yelpcdn.com/bphoto/MitaO5...</td>\n",
       "      <td>False</td>\n",
       "      <td>https://www.yelp.com/biz/bakery-bar-new-orlean...</td>\n",
       "      <td>485</td>\n",
       "      <td>[{'alias': 'bars', 'title': 'Bars'}, {'alias':...</td>\n",
       "      <td>4.5</td>\n",
       "      <td>{'latitude': 29.9388868, 'longitude': -90.0686...</td>\n",
       "      <td>[]</td>\n",
       "      <td>$$</td>\n",
       "      <td>{'address1': '1179 Annunciation St', 'address2...</td>\n",
       "      <td>+15045138519</td>\n",
       "      <td>(504) 513-8519</td>\n",
       "      <td>2400.269126</td>\n",
       "    </tr>\n",
       "    <tr>\n",
       "      <th>12</th>\n",
       "      <td>l5RR424DtNZg6mDcvrAixw</td>\n",
       "      <td>lakeview-burgers-and-seafood-new-orleans</td>\n",
       "      <td>Lakeview Burgers and Seafood</td>\n",
       "      <td>https://s3-media1.fl.yelpcdn.com/bphoto/WbBllZ...</td>\n",
       "      <td>False</td>\n",
       "      <td>https://www.yelp.com/biz/lakeview-burgers-and-...</td>\n",
       "      <td>118</td>\n",
       "      <td>[{'alias': 'seafood', 'title': 'Seafood'}, {'a...</td>\n",
       "      <td>4.0</td>\n",
       "      <td>{'latitude': 30.00407, 'longitude': -90.10421}</td>\n",
       "      <td>[pickup]</td>\n",
       "      <td>$$</td>\n",
       "      <td>{'address1': '872 Harrison Ave', 'address2': '...</td>\n",
       "      <td>+15042891032</td>\n",
       "      <td>(504) 289-1032</td>\n",
       "      <td>5678.579489</td>\n",
       "    </tr>\n",
       "    <tr>\n",
       "      <th>13</th>\n",
       "      <td>4DEO0nDjhS6DifyFP7yJNA</td>\n",
       "      <td>betty-s-bar-and-bistro-new-orleans</td>\n",
       "      <td>Betty’s Bar &amp; Bistro</td>\n",
       "      <td>https://s3-media3.fl.yelpcdn.com/bphoto/2kvEaQ...</td>\n",
       "      <td>False</td>\n",
       "      <td>https://www.yelp.com/biz/betty-s-bar-and-bistr...</td>\n",
       "      <td>56</td>\n",
       "      <td>[{'alias': 'tradamerican', 'title': 'American ...</td>\n",
       "      <td>4.5</td>\n",
       "      <td>{'latitude': 29.959824, 'longitude': -90.067339}</td>\n",
       "      <td>[delivery, pickup]</td>\n",
       "      <td>NaN</td>\n",
       "      <td>{'address1': '700 Burgundy St', 'address2': ''...</td>\n",
       "      <td>+15043541222</td>\n",
       "      <td>(504) 354-1222</td>\n",
       "      <td>1638.398766</td>\n",
       "    </tr>\n",
       "    <tr>\n",
       "      <th>14</th>\n",
       "      <td>xxlbRiWWQkk-6LST3Hd12g</td>\n",
       "      <td>the-backyard-new-orleans</td>\n",
       "      <td>The Backyard</td>\n",
       "      <td>https://s3-media1.fl.yelpcdn.com/bphoto/Bnxo_q...</td>\n",
       "      <td>False</td>\n",
       "      <td>https://www.yelp.com/biz/the-backyard-new-orle...</td>\n",
       "      <td>210</td>\n",
       "      <td>[{'alias': 'burgers', 'title': 'Burgers'}, {'a...</td>\n",
       "      <td>4.0</td>\n",
       "      <td>{'latitude': 30.005495, 'longitude': -90.118204}</td>\n",
       "      <td>[delivery]</td>\n",
       "      <td>$$</td>\n",
       "      <td>{'address1': '244 W Harrison Ave', 'address2':...</td>\n",
       "      <td>+15043098767</td>\n",
       "      <td>(504) 309-8767</td>\n",
       "      <td>6417.582032</td>\n",
       "    </tr>\n",
       "    <tr>\n",
       "      <th>15</th>\n",
       "      <td>BK8NZlJtgsKnh_L_mTRc6Q</td>\n",
       "      <td>the-yard-new-orleans</td>\n",
       "      <td>The Yard</td>\n",
       "      <td>https://s3-media3.fl.yelpcdn.com/bphoto/shUmXa...</td>\n",
       "      <td>False</td>\n",
       "      <td>https://www.yelp.com/biz/the-yard-new-orleans?...</td>\n",
       "      <td>74</td>\n",
       "      <td>[{'alias': 'cocktailbars', 'title': 'Cocktail ...</td>\n",
       "      <td>4.0</td>\n",
       "      <td>{'latitude': 29.9620601604702, 'longitude': -9...</td>\n",
       "      <td>[]</td>\n",
       "      <td>$$</td>\n",
       "      <td>{'address1': '405 Frenchmen St', 'address2': N...</td>\n",
       "      <td>+15042662848</td>\n",
       "      <td>(504) 266-2848</td>\n",
       "      <td>2617.466511</td>\n",
       "    </tr>\n",
       "    <tr>\n",
       "      <th>16</th>\n",
       "      <td>_wUVeoShcomTE79D9T1goQ</td>\n",
       "      <td>stuphd-beignets-and-burgers-new-orleans</td>\n",
       "      <td>Stuph'D Beignets &amp; Burgers</td>\n",
       "      <td>https://s3-media4.fl.yelpcdn.com/bphoto/XRReAE...</td>\n",
       "      <td>False</td>\n",
       "      <td>https://www.yelp.com/biz/stuphd-beignets-and-b...</td>\n",
       "      <td>107</td>\n",
       "      <td>[{'alias': 'tradamerican', 'title': 'American ...</td>\n",
       "      <td>4.5</td>\n",
       "      <td>{'latitude': 29.967196412626613, 'longitude': ...</td>\n",
       "      <td>[delivery, pickup]</td>\n",
       "      <td>$$</td>\n",
       "      <td>{'address1': '3325 St. Claude Ave', 'address2'...</td>\n",
       "      <td>+15044594571</td>\n",
       "      <td>(504) 459-4571</td>\n",
       "      <td>4318.550342</td>\n",
       "    </tr>\n",
       "    <tr>\n",
       "      <th>17</th>\n",
       "      <td>9CRWWbw3iOo4-9FMAO6nKw</td>\n",
       "      <td>fat-boy-pantry-new-orleans</td>\n",
       "      <td>Fat Boy Pantry</td>\n",
       "      <td>https://s3-media1.fl.yelpcdn.com/bphoto/g0YZKe...</td>\n",
       "      <td>False</td>\n",
       "      <td>https://www.yelp.com/biz/fat-boy-pantry-new-or...</td>\n",
       "      <td>265</td>\n",
       "      <td>[{'alias': 'icecream', 'title': 'Ice Cream &amp; F...</td>\n",
       "      <td>4.5</td>\n",
       "      <td>{'latitude': 29.93804, 'longitude': -90.07108}</td>\n",
       "      <td>[delivery, pickup]</td>\n",
       "      <td>$$</td>\n",
       "      <td>{'address1': '1302 Magazine St', 'address2': '...</td>\n",
       "      <td>+15042399514</td>\n",
       "      <td>(504) 239-9514</td>\n",
       "      <td>2342.755509</td>\n",
       "    </tr>\n",
       "    <tr>\n",
       "      <th>18</th>\n",
       "      <td>AUOVas9i2YzaS7xalgbuOw</td>\n",
       "      <td>bad-wolf-bell-chasse</td>\n",
       "      <td>Bad Wolf</td>\n",
       "      <td>https://s3-media3.fl.yelpcdn.com/bphoto/GCRyOL...</td>\n",
       "      <td>False</td>\n",
       "      <td>https://www.yelp.com/biz/bad-wolf-bell-chasse?...</td>\n",
       "      <td>5</td>\n",
       "      <td>[{'alias': 'toys', 'title': 'Toy Stores'}, {'a...</td>\n",
       "      <td>4.5</td>\n",
       "      <td>{'latitude': 29.900094922075027, 'longitude': ...</td>\n",
       "      <td>[delivery]</td>\n",
       "      <td>$</td>\n",
       "      <td>{'address1': '1454 Woodland Hwy', 'address2': ...</td>\n",
       "      <td>+15046134887</td>\n",
       "      <td>(504) 613-4887</td>\n",
       "      <td>11376.230403</td>\n",
       "    </tr>\n",
       "    <tr>\n",
       "      <th>19</th>\n",
       "      <td>nS09-w8O75nD3cDloi6UZg</td>\n",
       "      <td>desi-vegas-prime-burgers-and-shakes-harahan</td>\n",
       "      <td>Desi Vega's Prime Burgers and Shakes</td>\n",
       "      <td>https://s3-media1.fl.yelpcdn.com/bphoto/CPYWb9...</td>\n",
       "      <td>False</td>\n",
       "      <td>https://www.yelp.com/biz/desi-vegas-prime-burg...</td>\n",
       "      <td>165</td>\n",
       "      <td>[{'alias': 'burgers', 'title': 'Burgers'}]</td>\n",
       "      <td>4.0</td>\n",
       "      <td>{'latitude': 29.9625721646477, 'longitude': -9...</td>\n",
       "      <td>[delivery]</td>\n",
       "      <td>$$</td>\n",
       "      <td>{'address1': '1640 Hickory Ave', 'address2': '...</td>\n",
       "      <td>+15045753581</td>\n",
       "      <td>(504) 575-3581</td>\n",
       "      <td>11756.235275</td>\n",
       "    </tr>\n",
       "  </tbody>\n",
       "</table>\n",
       "</div>"
      ],
      "text/plain": [
       "                        id                                        alias  \\\n",
       "0   gTC8IQ_i8zXytWSly3Ttvg                 cochon-butcher-new-orleans-2   \n",
       "1   t9LiapsQABwMQeiF1Czl6w                   port-of-call-new-orleans-2   \n",
       "2   EmJF-xSIOaEEOWcK8UOBqg                    fharmacy-nola-new-orleans   \n",
       "3   EONd-1BeBm04FBLvWe6KMQ                       bub-s-nola-new-orleans   \n",
       "4   q6hWVlVeiCgMgM22wt1wfw               the-company-burger-new-orleans   \n",
       "5   rOsC1rDpIxvNoHxEvNFjeA        backspace-bar-and-kitchen-new-orleans   \n",
       "6   tJbcSsnO1HNwebJhKUz3NQ       ya-mamas-burgers-and-spuds-new-orleans   \n",
       "7   UTkd3bWcTn0eREADTWKyog           the-will-and-the-way-new-orleans-3   \n",
       "8   Meww6RIE4cFL_kG0aRlbAA                     blue-oak-bbq-new-orleans   \n",
       "9   zHy8953PyqX0CnPTXDn3zw                   the-commissary-new-orleans   \n",
       "10  8uF-bhJFgT4Tn6DTb27viA     district-donuts-sliders-brew-new-orleans   \n",
       "11  yMlpyzvx5o3tTFI_1esgGQ                       bakery-bar-new-orleans   \n",
       "12  l5RR424DtNZg6mDcvrAixw     lakeview-burgers-and-seafood-new-orleans   \n",
       "13  4DEO0nDjhS6DifyFP7yJNA           betty-s-bar-and-bistro-new-orleans   \n",
       "14  xxlbRiWWQkk-6LST3Hd12g                     the-backyard-new-orleans   \n",
       "15  BK8NZlJtgsKnh_L_mTRc6Q                         the-yard-new-orleans   \n",
       "16  _wUVeoShcomTE79D9T1goQ      stuphd-beignets-and-burgers-new-orleans   \n",
       "17  9CRWWbw3iOo4-9FMAO6nKw                   fat-boy-pantry-new-orleans   \n",
       "18  AUOVas9i2YzaS7xalgbuOw                         bad-wolf-bell-chasse   \n",
       "19  nS09-w8O75nD3cDloi6UZg  desi-vegas-prime-burgers-and-shakes-harahan   \n",
       "\n",
       "                                    name  \\\n",
       "0                         Cochon Butcher   \n",
       "1                           Port Of Call   \n",
       "2                          Fharmacy Nola   \n",
       "3                             Bub’s Nola   \n",
       "4                     The Company Burger   \n",
       "5                Backspace Bar & Kitchen   \n",
       "6            Ya Mama's Burgers and Spuds   \n",
       "7                     The Will & The Way   \n",
       "8                           Blue Oak BBQ   \n",
       "9                         The Commissary   \n",
       "10          District Donuts Sliders Brew   \n",
       "11                            Bakery Bar   \n",
       "12          Lakeview Burgers and Seafood   \n",
       "13                  Betty’s Bar & Bistro   \n",
       "14                          The Backyard   \n",
       "15                              The Yard   \n",
       "16            Stuph'D Beignets & Burgers   \n",
       "17                        Fat Boy Pantry   \n",
       "18                              Bad Wolf   \n",
       "19  Desi Vega's Prime Burgers and Shakes   \n",
       "\n",
       "                                            image_url  is_closed  \\\n",
       "0   https://s3-media2.fl.yelpcdn.com/bphoto/KqxJbu...      False   \n",
       "1   https://s3-media1.fl.yelpcdn.com/bphoto/UA-xRv...      False   \n",
       "2   https://s3-media1.fl.yelpcdn.com/bphoto/uIEzYe...      False   \n",
       "3   https://s3-media1.fl.yelpcdn.com/bphoto/0Pkbe3...      False   \n",
       "4   https://s3-media4.fl.yelpcdn.com/bphoto/wvzN6l...      False   \n",
       "5   https://s3-media2.fl.yelpcdn.com/bphoto/ZaMssH...      False   \n",
       "6   https://s3-media1.fl.yelpcdn.com/bphoto/kqwMKk...      False   \n",
       "7   https://s3-media1.fl.yelpcdn.com/bphoto/mzjd7C...      False   \n",
       "8   https://s3-media2.fl.yelpcdn.com/bphoto/OhIfCy...      False   \n",
       "9   https://s3-media3.fl.yelpcdn.com/bphoto/YHCvYM...      False   \n",
       "10  https://s3-media3.fl.yelpcdn.com/bphoto/1hrJqK...      False   \n",
       "11  https://s3-media1.fl.yelpcdn.com/bphoto/MitaO5...      False   \n",
       "12  https://s3-media1.fl.yelpcdn.com/bphoto/WbBllZ...      False   \n",
       "13  https://s3-media3.fl.yelpcdn.com/bphoto/2kvEaQ...      False   \n",
       "14  https://s3-media1.fl.yelpcdn.com/bphoto/Bnxo_q...      False   \n",
       "15  https://s3-media3.fl.yelpcdn.com/bphoto/shUmXa...      False   \n",
       "16  https://s3-media4.fl.yelpcdn.com/bphoto/XRReAE...      False   \n",
       "17  https://s3-media1.fl.yelpcdn.com/bphoto/g0YZKe...      False   \n",
       "18  https://s3-media3.fl.yelpcdn.com/bphoto/GCRyOL...      False   \n",
       "19  https://s3-media1.fl.yelpcdn.com/bphoto/CPYWb9...      False   \n",
       "\n",
       "                                                  url  review_count  \\\n",
       "0   https://www.yelp.com/biz/cochon-butcher-new-or...          3980   \n",
       "1   https://www.yelp.com/biz/port-of-call-new-orle...          1753   \n",
       "2   https://www.yelp.com/biz/fharmacy-nola-new-orl...           481   \n",
       "3   https://www.yelp.com/biz/bub-s-nola-new-orlean...            63   \n",
       "4   https://www.yelp.com/biz/the-company-burger-ne...           768   \n",
       "5   https://www.yelp.com/biz/backspace-bar-and-kit...           454   \n",
       "6   https://www.yelp.com/biz/ya-mamas-burgers-and-...             8   \n",
       "7   https://www.yelp.com/biz/the-will-and-the-way-...            60   \n",
       "8   https://www.yelp.com/biz/blue-oak-bbq-new-orle...          1146   \n",
       "9   https://www.yelp.com/biz/the-commissary-new-or...            18   \n",
       "10  https://www.yelp.com/biz/district-donuts-slide...          2106   \n",
       "11  https://www.yelp.com/biz/bakery-bar-new-orlean...           485   \n",
       "12  https://www.yelp.com/biz/lakeview-burgers-and-...           118   \n",
       "13  https://www.yelp.com/biz/betty-s-bar-and-bistr...            56   \n",
       "14  https://www.yelp.com/biz/the-backyard-new-orle...           210   \n",
       "15  https://www.yelp.com/biz/the-yard-new-orleans?...            74   \n",
       "16  https://www.yelp.com/biz/stuphd-beignets-and-b...           107   \n",
       "17  https://www.yelp.com/biz/fat-boy-pantry-new-or...           265   \n",
       "18  https://www.yelp.com/biz/bad-wolf-bell-chasse?...             5   \n",
       "19  https://www.yelp.com/biz/desi-vegas-prime-burg...           165   \n",
       "\n",
       "                                           categories  rating  \\\n",
       "0   [{'alias': 'sandwiches', 'title': 'Sandwiches'...     4.5   \n",
       "1   [{'alias': 'bars', 'title': 'Bars'}, {'alias':...     4.0   \n",
       "2   [{'alias': 'tradamerican', 'title': 'American ...     4.5   \n",
       "3   [{'alias': 'tradamerican', 'title': 'American ...     4.5   \n",
       "4   [{'alias': 'burgers', 'title': 'Burgers'}, {'a...     4.0   \n",
       "5   [{'alias': 'bars', 'title': 'Bars'}, {'alias':...     4.0   \n",
       "6   [{'alias': 'bars', 'title': 'Bars'}, {'alias':...     4.5   \n",
       "7   [{'alias': 'cocktailbars', 'title': 'Cocktail ...     4.5   \n",
       "8   [{'alias': 'bbq', 'title': 'Barbeque'}, {'alia...     4.5   \n",
       "9   [{'alias': 'tradamerican', 'title': 'American ...     5.0   \n",
       "10  [{'alias': 'coffee', 'title': 'Coffee & Tea'},...     4.5   \n",
       "11  [{'alias': 'bars', 'title': 'Bars'}, {'alias':...     4.5   \n",
       "12  [{'alias': 'seafood', 'title': 'Seafood'}, {'a...     4.0   \n",
       "13  [{'alias': 'tradamerican', 'title': 'American ...     4.5   \n",
       "14  [{'alias': 'burgers', 'title': 'Burgers'}, {'a...     4.0   \n",
       "15  [{'alias': 'cocktailbars', 'title': 'Cocktail ...     4.0   \n",
       "16  [{'alias': 'tradamerican', 'title': 'American ...     4.5   \n",
       "17  [{'alias': 'icecream', 'title': 'Ice Cream & F...     4.5   \n",
       "18  [{'alias': 'toys', 'title': 'Toy Stores'}, {'a...     4.5   \n",
       "19         [{'alias': 'burgers', 'title': 'Burgers'}]     4.0   \n",
       "\n",
       "                                          coordinates        transactions  \\\n",
       "0   {'latitude': 29.9422358658609, 'longitude': -9...                  []   \n",
       "1    {'latitude': 29.964442, 'longitude': -90.061776}          [delivery]   \n",
       "2   {'latitude': 29.9617582769481, 'longitude': -9...  [delivery, pickup]   \n",
       "3      {'latitude': 29.97461, 'longitude': -90.10663}  [delivery, pickup]   \n",
       "4    {'latitude': 29.934724, 'longitude': -90.105744}          [delivery]   \n",
       "5   {'latitude': 29.9534413, 'longitude': -90.0675...          [delivery]   \n",
       "6      {'latitude': 29.95851, 'longitude': -90.06521}                  []   \n",
       "7   {'latitude': 29.95755757686385, 'longitude': -...  [delivery, pickup]   \n",
       "8   {'latitude': 29.9805179, 'longitude': -90.093634}          [delivery]   \n",
       "9      {'latitude': 29.93213, 'longitude': -90.06782}                  []   \n",
       "10  {'latitude': 29.9294259, 'longitude': -90.0770...          [delivery]   \n",
       "11  {'latitude': 29.9388868, 'longitude': -90.0686...                  []   \n",
       "12     {'latitude': 30.00407, 'longitude': -90.10421}            [pickup]   \n",
       "13   {'latitude': 29.959824, 'longitude': -90.067339}  [delivery, pickup]   \n",
       "14   {'latitude': 30.005495, 'longitude': -90.118204}          [delivery]   \n",
       "15  {'latitude': 29.9620601604702, 'longitude': -9...                  []   \n",
       "16  {'latitude': 29.967196412626613, 'longitude': ...  [delivery, pickup]   \n",
       "17     {'latitude': 29.93804, 'longitude': -90.07108}  [delivery, pickup]   \n",
       "18  {'latitude': 29.900094922075027, 'longitude': ...          [delivery]   \n",
       "19  {'latitude': 29.9625721646477, 'longitude': -9...          [delivery]   \n",
       "\n",
       "   price                                           location         phone  \\\n",
       "0     $$  {'address1': '930 Tchoupitoulas St', 'address2...  +15045887675   \n",
       "1     $$  {'address1': '838 Esplanade Ave', 'address2': ...  +15045230120   \n",
       "2     $$  {'address1': '2540 Banks St', 'address2': '', ...  +15043246090   \n",
       "3     $$  {'address1': '4413 Banks St', 'address2': '', ...                 \n",
       "4     $$  {'address1': '4600 Freret St', 'address2': 'St...  +15042670320   \n",
       "5     $$  {'address1': '139 Chartres St', 'address2': ''...  +15043222245   \n",
       "6     $$  {'address1': '727 St.Peter St', 'address2': No...                 \n",
       "7     $$  {'address1': '719 Toulouse St', 'address2': No...                 \n",
       "8     $$  {'address1': '900 N Carrollton St', 'address2'...  +15048222583   \n",
       "9    NaN  {'address1': '634 Orange St', 'address2': None...  +15042741850   \n",
       "10     $  {'address1': '2209 Magazine St', 'address2': '...  +15045706945   \n",
       "11    $$  {'address1': '1179 Annunciation St', 'address2...  +15045138519   \n",
       "12    $$  {'address1': '872 Harrison Ave', 'address2': '...  +15042891032   \n",
       "13   NaN  {'address1': '700 Burgundy St', 'address2': ''...  +15043541222   \n",
       "14    $$  {'address1': '244 W Harrison Ave', 'address2':...  +15043098767   \n",
       "15    $$  {'address1': '405 Frenchmen St', 'address2': N...  +15042662848   \n",
       "16    $$  {'address1': '3325 St. Claude Ave', 'address2'...  +15044594571   \n",
       "17    $$  {'address1': '1302 Magazine St', 'address2': '...  +15042399514   \n",
       "18     $  {'address1': '1454 Woodland Hwy', 'address2': ...  +15046134887   \n",
       "19    $$  {'address1': '1640 Hickory Ave', 'address2': '...  +15045753581   \n",
       "\n",
       "     display_phone      distance  \n",
       "0   (504) 588-7675   2225.217801  \n",
       "1   (504) 523-0120   2313.727989  \n",
       "2   (504) 324-6090    767.797434  \n",
       "3                    3015.677509  \n",
       "4   (504) 267-0320   3181.764830  \n",
       "5   (504) 322-2245   1592.330936  \n",
       "6                    1805.717089  \n",
       "7                    1734.951994  \n",
       "8   (504) 822-2583   2878.224100  \n",
       "9   (504) 274-1850   3091.687301  \n",
       "10  (504) 570-6945   3033.803440  \n",
       "11  (504) 513-8519   2400.269126  \n",
       "12  (504) 289-1032   5678.579489  \n",
       "13  (504) 354-1222   1638.398766  \n",
       "14  (504) 309-8767   6417.582032  \n",
       "15  (504) 266-2848   2617.466511  \n",
       "16  (504) 459-4571   4318.550342  \n",
       "17  (504) 239-9514   2342.755509  \n",
       "18  (504) 613-4887  11376.230403  \n",
       "19  (504) 575-3581  11756.235275  "
      ]
     },
     "execution_count": 162,
     "metadata": {},
     "output_type": "execute_result"
    }
   ],
   "source": [
    "pd.DataFrame(results['businesses'])"
   ]
  },
  {
   "cell_type": "code",
   "execution_count": 163,
   "id": "6aa202f2",
   "metadata": {},
   "outputs": [
    {
     "data": {
      "text/plain": [
       "True"
      ]
     },
     "execution_count": 163,
     "metadata": {},
     "output_type": "execute_result"
    }
   ],
   "source": [
    "os.path.isfile(JSON_FILE)"
   ]
  },
  {
   "cell_type": "code",
   "execution_count": 164,
   "id": "a2bc2bdd",
   "metadata": {},
   "outputs": [
    {
     "name": "stdout",
     "output_type": "stream",
     "text": [
      "File exists\n"
     ]
    }
   ],
   "source": [
    "if os.path.isfile(JSON_FILE) == False:\n",
    "    with open(JSON_FILE, 'w') as f:\n",
    "        json.dump(results['businesses'],f)\n",
    "else:\n",
    "    print('File exists')\n"
   ]
  },
  {
   "cell_type": "markdown",
   "id": "fa438220",
   "metadata": {},
   "source": [
    "-100 because the file is too big"
   ]
  },
  {
   "cell_type": "code",
   "execution_count": 165,
   "id": "33c93cfc",
   "metadata": {},
   "outputs": [
    {
     "data": {
      "text/plain": [
       "900"
      ]
     },
     "execution_count": 165,
     "metadata": {},
     "output_type": "execute_result"
    }
   ],
   "source": [
    "prev_df = pd.read_json(JSON_FILE)\n",
    "\n",
    "n_results = len(prev_df)-100\n",
    "n_results"
   ]
  },
  {
   "cell_type": "code",
   "execution_count": 166,
   "id": "57b42911",
   "metadata": {},
   "outputs": [
    {
     "data": {
      "text/plain": [
       "20"
      ]
     },
     "execution_count": 166,
     "metadata": {},
     "output_type": "execute_result"
    }
   ],
   "source": [
    "results_per_page = len(results['businesses'])\n",
    "results_per_page"
   ]
  },
  {
   "cell_type": "code",
   "execution_count": 167,
   "id": "7443c2d8",
   "metadata": {},
   "outputs": [
    {
     "data": {
      "text/plain": [
       "50"
      ]
     },
     "execution_count": 167,
     "metadata": {},
     "output_type": "execute_result"
    }
   ],
   "source": [
    "n_pages = math.ceil(results['total']/results_per_page)\n",
    "n_pages"
   ]
  },
  {
   "cell_type": "code",
   "execution_count": 168,
   "id": "6d596fe7",
   "metadata": {},
   "outputs": [
    {
     "data": {
      "application/vnd.jupyter.widget-view+json": {
       "model_id": "44e61d37400e402cabe4a2f14c514e17",
       "version_major": 2,
       "version_minor": 0
      },
      "text/plain": [
       "  0%|          | 0/50 [00:00<?, ?it/s]"
      ]
     },
     "metadata": {},
     "output_type": "display_data"
    },
    {
     "ename": "YelpAPIError",
     "evalue": "VALIDATION_ERROR: Too many results requested, limit+offset must be <= 1000.",
     "output_type": "error",
     "traceback": [
      "\u001b[0;31m---------------------------------------------------------------------------\u001b[0m",
      "\u001b[0;31mYelpAPIError\u001b[0m                              Traceback (most recent call last)",
      "\u001b[0;32m/var/folders/tr/bq3vdc154252jmnyvlwmgbyc0000gn/T/ipykernel_67745/3796363813.py\u001b[0m in \u001b[0;36m<module>\u001b[0;34m\u001b[0m\n\u001b[1;32m      5\u001b[0m             \u001b[0mn_results1\u001b[0m \u001b[0;34m=\u001b[0m \u001b[0mlen\u001b[0m\u001b[0;34m(\u001b[0m\u001b[0mprev_results\u001b[0m\u001b[0;34m)\u001b[0m\u001b[0;34m\u001b[0m\u001b[0;34m\u001b[0m\u001b[0m\n\u001b[1;32m      6\u001b[0m \u001b[0;34m\u001b[0m\u001b[0m\n\u001b[0;32m----> 7\u001b[0;31m             \u001b[0mresults1\u001b[0m \u001b[0;34m=\u001b[0m \u001b[0myelp_api\u001b[0m\u001b[0;34m.\u001b[0m\u001b[0msearch_query\u001b[0m\u001b[0;34m(\u001b[0m\u001b[0mterm\u001b[0m\u001b[0;34m=\u001b[0m\u001b[0mTERM\u001b[0m\u001b[0;34m,\u001b[0m\u001b[0mlocation\u001b[0m \u001b[0;34m=\u001b[0m \u001b[0mLOCATION\u001b[0m\u001b[0;34m,\u001b[0m \u001b[0moffset\u001b[0m\u001b[0;34m=\u001b[0m \u001b[0mn_results1\u001b[0m\u001b[0;34m)\u001b[0m\u001b[0;34m\u001b[0m\u001b[0;34m\u001b[0m\u001b[0m\n\u001b[0m\u001b[1;32m      8\u001b[0m \u001b[0;34m\u001b[0m\u001b[0m\n\u001b[1;32m      9\u001b[0m             \u001b[0mprev_results\u001b[0m\u001b[0;34m.\u001b[0m\u001b[0mextend\u001b[0m\u001b[0;34m(\u001b[0m\u001b[0mresults\u001b[0m\u001b[0;34m[\u001b[0m\u001b[0;34m'businesses'\u001b[0m\u001b[0;34m]\u001b[0m\u001b[0;34m)\u001b[0m\u001b[0;34m\u001b[0m\u001b[0;34m\u001b[0m\u001b[0m\n",
      "\u001b[0;32m/opt/anaconda3/envs/dojo-env/lib/python3.7/site-packages/yelpapi/yelpapi.py\u001b[0m in \u001b[0;36msearch_query\u001b[0;34m(self, **kwargs)\u001b[0m\n\u001b[1;32m    232\u001b[0m                              '(parameters \"latitude\" and \"longitude\") must be provided.')\n\u001b[1;32m    233\u001b[0m \u001b[0;34m\u001b[0m\u001b[0m\n\u001b[0;32m--> 234\u001b[0;31m         \u001b[0;32mreturn\u001b[0m \u001b[0mself\u001b[0m\u001b[0;34m.\u001b[0m\u001b[0m_query\u001b[0m\u001b[0;34m(\u001b[0m\u001b[0mSEARCH_API_URL\u001b[0m\u001b[0;34m,\u001b[0m \u001b[0;34m**\u001b[0m\u001b[0mkwargs\u001b[0m\u001b[0;34m)\u001b[0m\u001b[0;34m\u001b[0m\u001b[0;34m\u001b[0m\u001b[0m\n\u001b[0m\u001b[1;32m    235\u001b[0m \u001b[0;34m\u001b[0m\u001b[0m\n\u001b[1;32m    236\u001b[0m     \u001b[0;32mdef\u001b[0m \u001b[0mtransaction_search_query\u001b[0m\u001b[0;34m(\u001b[0m\u001b[0mself\u001b[0m\u001b[0;34m,\u001b[0m \u001b[0mtransaction_type\u001b[0m\u001b[0;34m,\u001b[0m \u001b[0;34m**\u001b[0m\u001b[0mkwargs\u001b[0m\u001b[0;34m)\u001b[0m\u001b[0;34m:\u001b[0m\u001b[0;34m\u001b[0m\u001b[0;34m\u001b[0m\u001b[0m\n",
      "\u001b[0;32m/opt/anaconda3/envs/dojo-env/lib/python3.7/site-packages/yelpapi/yelpapi.py\u001b[0m in \u001b[0;36m_query\u001b[0;34m(self, url, **kwargs)\u001b[0m\n\u001b[1;32m    281\u001b[0m         \u001b[0;32mif\u001b[0m \u001b[0;34m'error'\u001b[0m \u001b[0;32min\u001b[0m \u001b[0mresponse_json\u001b[0m\u001b[0;34m:\u001b[0m\u001b[0;34m\u001b[0m\u001b[0;34m\u001b[0m\u001b[0m\n\u001b[1;32m    282\u001b[0m             raise YelpAPI.YelpAPIError('{}: {}'.format(response_json['error']['code'],\n\u001b[0;32m--> 283\u001b[0;31m                                                        response_json['error']['description']))\n\u001b[0m\u001b[1;32m    284\u001b[0m \u001b[0;34m\u001b[0m\u001b[0m\n\u001b[1;32m    285\u001b[0m         \u001b[0;31m# we got a good response, so return\u001b[0m\u001b[0;34m\u001b[0m\u001b[0;34m\u001b[0m\u001b[0;34m\u001b[0m\u001b[0m\n",
      "\u001b[0;31mYelpAPIError\u001b[0m: VALIDATION_ERROR: Too many results requested, limit+offset must be <= 1000."
     ]
    }
   ],
   "source": [
    "for i in tqdm_notebook( range(1,n_pages+1)):\n",
    "      with open(JSON_FILE) as f:\n",
    "            prev_results = json.load(f)\n",
    "            \n",
    "            n_results1 = len(prev_results)\n",
    "            \n",
    "            results1 = yelp_api.search_query(term=TERM,location = LOCATION, offset= n_results1)\n",
    "            \n",
    "            prev_results.extend(results['businesses'])\n",
    "            with open(JSON_FILE, 'w') as f:\n",
    "                json.dump(prev_results,f)\n",
    "    "
   ]
  },
  {
   "cell_type": "code",
   "execution_count": null,
   "id": "4572b28c",
   "metadata": {},
   "outputs": [],
   "source": [
    "final_df = pd.read_json(JSON_FILE)\n",
    "display(final_df.head(), final_df.tail())\n"
   ]
  },
  {
   "cell_type": "code",
   "execution_count": null,
   "id": "95fb3cbe",
   "metadata": {},
   "outputs": [],
   "source": [
    "final_df.duplicated(subset='id').sum()\n",
    "\n"
   ]
  },
  {
   "cell_type": "code",
   "execution_count": null,
   "id": "0d706330",
   "metadata": {},
   "outputs": [],
   "source": [
    "final_df.to_csv('Data/final_results_in_progress_Burgers.csv.gz', compression='gzip',index=False)\n",
    "\n"
   ]
  }
 ],
 "metadata": {
  "kernelspec": {
   "display_name": "Python (dojo-env)",
   "language": "python",
   "name": "dojo-env"
  },
  "language_info": {
   "codemirror_mode": {
    "name": "ipython",
    "version": 3
   },
   "file_extension": ".py",
   "mimetype": "text/x-python",
   "name": "python",
   "nbconvert_exporter": "python",
   "pygments_lexer": "ipython3",
   "version": "3.7.12"
  },
  "toc": {
   "base_numbering": 1,
   "nav_menu": {},
   "number_sections": false,
   "sideBar": true,
   "skip_h1_title": false,
   "title_cell": "Table of Contents",
   "title_sidebar": "Contents",
   "toc_cell": false,
   "toc_position": {},
   "toc_section_display": true,
   "toc_window_display": false
  }
 },
 "nbformat": 4,
 "nbformat_minor": 5
}
